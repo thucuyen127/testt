{
 "cells": [
  {
   "cell_type": "markdown",
   "metadata": {
    "id": "7JPqbLsOGd_C"
   },
   "source": [
    "XÂY DỰNG CHƯƠNG TRÌNH KIỂM ĐỊNH Z (HOẶC T) CHO CÁC BÀI TẬP SAU\n",
    "\n",
    "Gợi ý:\n",
    "\n",
    "- Số liệu được sinh ngẫu nhiên theo phân phối chuẩn\n",
    "- Sử dụng gói phần mềm statsmodels để tiến hành kiểm định\n",
    "- Đối với các bài tập kiểm định giả thuyết thì sinh viên cần phát biểu các giả thuyết (bằng tiếng Việt) $H_{0}$ và $H_{a}$ trước khi lập trình kiểm định"
   ]
  },
  {
   "cell_type": "code",
   "execution_count": 118,
   "metadata": {
    "id": "ehqWA46NJHx1"
   },
   "outputs": [],
   "source": [
    "from statsmodels.stats.weightstats import ztest\n",
    "import numpy as np\n",
    "import random\n",
    "from scipy import stats as st\n",
    "from statsmodels.stats.weightstats import ttest_ind"
   ]
  },
  {
   "cell_type": "markdown",
   "metadata": {
    "id": "jfyDNNIwGd_I"
   },
   "source": [
    "Bài 1: You’re a Q/C inspector for Gallo. The sample standard deviation for 2-liter bottles is .05 liters.  A random sample of 100 bottles showed sasmple mean = 1.99 liters.  What is the 90%  confidence interval estimate of the true mean amount in 2-liter bottles? "
   ]
  },
  {
   "cell_type": "markdown",
   "metadata": {},
   "source": [
    "Ho: μ = 2\n",
    "Ha: μ ≠ 2"
   ]
  },
  {
   "cell_type": "code",
   "execution_count": 119,
   "metadata": {},
   "outputs": [
    {
     "name": "stdout",
     "output_type": "stream",
     "text": [
      "Với độ tin cậy là 90%, giá trị nằm trong khoảng là :  (1.9177573186524264, 2.082242681347574)\n",
      "z =  -0.16586627223642234 p =  0.5658689046820434\n",
      "Chưa có bằng chứng để bác bỏ giả thuyết H0\n"
     ]
    }
   ],
   "source": [
    "#Code here\n",
    "#kiểm định\n",
    "samples = np.random.normal(1.99, 0.05, 100)\n",
    "null_mean = 2\n",
    "alpha = 0.1\n",
    "sigma = 0.05\n",
    "print('Với độ tin cậy là 90%, giá trị nằm trong khoảng là : ',st.norm.interval(1-alpha, loc=null_mean, scale=sigma))\n",
    "#Kiểm định z\n",
    "ztest_Score, p_value= ztest(samples, value = null_mean, alternative='larger')\n",
    "print('z = ', ztest_Score,\n",
    "       'p = ', p_value)\n",
    "if(p_value <  alpha/2):\n",
    "  print(\"Có bằng chứng để bác bỏ giả thuyết H0\")\n",
    "else:\n",
    "  print(\"Chưa có bằng chứng để bác bỏ giả thuyết H0\")"
   ]
  },
  {
   "cell_type": "markdown",
   "metadata": {
    "id": "aZsH7doiGd_J"
   },
   "source": [
    "Bài 2: You’re a time study analyst in manufacturing.  You’ve recorded the following task times (min.): 3.6, 4.2, 4.0, 3.5, 3.8, 3.1. What is the 90% confidence interval estimate of the population mean task time? "
   ]
  },
  {
   "cell_type": "code",
   "execution_count": 120,
   "metadata": {},
   "outputs": [
    {
     "name": "stdout",
     "output_type": "stream",
     "text": [
      "Với độ tin cậy là 90%, giá trị nằm trong khoảng là  (3.114592303730054, 4.285407696269947)\n"
     ]
    }
   ],
   "source": [
    "a = np.array([3.6, 4.2, 4.0, 3.5, 3.8, 3.1])\n",
    "# xác định các thông số:\n",
    "alpha = 0.1\n",
    "sigma = np.std(a)\n",
    "null_mean = np.mean(a)\n",
    "print('Với độ tin cậy là 90%, giá trị nằm trong khoảng là ',st.norm.interval(1-alpha, loc=null_mean, scale=sigma))\n",
    "#Kiểm định t\n",
    "#ttest_Score, p_value = st.ttest_1samp(a, 3.0)\n",
    "#print('t = ',ttest_Score,', p = ',p_value)\n",
    "#if(p_value <  alpha/2):\n",
    "  #print(\"Có bằng chứng để bác bỏ giả thuyết H0\")\n",
    "#else:\n",
    "  #print(\"Chưa có bằng chứng để bác bỏ giả thuyết H0\")"
   ]
  },
  {
   "cell_type": "markdown",
   "metadata": {},
   "source": [
    "Ho: μ = 3.5\n",
    "Ha: μ ≠ 3.5"
   ]
  },
  {
   "cell_type": "code",
   "execution_count": 121,
   "metadata": {},
   "outputs": [
    {
     "name": "stdout",
     "output_type": "stream",
     "text": [
      "t =  1.2565617248750904 , p =  0.2644211191936183\n",
      "Chưa có bằng chứng để bác bỏ giả thuyết H0\n"
     ]
    }
   ],
   "source": [
    "ttest_Score, p_value = st.ttest_1samp(a, 3.5)\n",
    "print('t = ',ttest_Score,', p = ',p_value)\n",
    "if(p_value <  alpha/2):\n",
    "  print(\"Có bằng chứng để bác bỏ giả thuyết H0\")\n",
    "else:\n",
    "  print(\"Chưa có bằng chứng để bác bỏ giả thuyết H0\")"
   ]
  },
  {
   "cell_type": "markdown",
   "metadata": {
    "id": "YmpkaJyxGd_K"
   },
   "source": [
    "Bài 3: Does an average box of cereal contain 368 grams of cereal?  A random sample of 25 boxes had $\\overline{\\rm x}$ = 372.5.  The company has specified $\\sigma$ to be 25 grams.  Test at the .05 level of significance."
   ]
  },
  {
   "cell_type": "markdown",
   "metadata": {},
   "source": [
    "Ho: μ = 368\n",
    "Ha: μ ≠ 368"
   ]
  },
  {
   "cell_type": "code",
   "execution_count": 122,
   "metadata": {
    "id": "NGCUBlV8Gd_K"
   },
   "outputs": [
    {
     "name": "stdout",
     "output_type": "stream",
     "text": [
      "t =  2.1450701723181322 , p =  0.042276641856780914\n",
      "Chưa có bằng chứng để bác bỏ giả thuyết H0\n"
     ]
    }
   ],
   "source": [
    "#Code here\n",
    "#xác định thông số\n",
    "alpha = 0.05\n",
    "null_mean = 368\n",
    "\n",
    "#Sinh ngẫu nhiên một mẫu 25 phần tử có trung bình mẫu là 372.5, độ lệch chuẩn là 25\n",
    "samples = np.random.normal(372.5, 25, 25)\n",
    "#Kiểm định t\n",
    "ttest_Score, p_value = st.ttest_1samp(samples, null_mean)\n",
    "print('t = ',ttest_Score,', p = ',p_value)\n",
    "if(p_value <  alpha/2):\n",
    "  print(\"Có bằng chứng để bác bỏ giả thuyết H0\")\n",
    "else:\n",
    "  print(\"Chưa có bằng chứng để bác bỏ giả thuyết H0\")\n"
   ]
  },
  {
   "cell_type": "markdown",
   "metadata": {
    "id": "yPoDW7_AGd_L"
   },
   "source": [
    "Bài 4: You’re a Q/C inspector.  You want to find out if a new machine is making electrical cords to customer specification: average breaking strength of 70 lb. with $\\sigma$ = 3.5 lb.  You take a sample of 36 cords & compute a sample mean of 69.7 lb.  At the .05 level of significance, is there evidence that the machine is not meeting the average breaking strength?"
   ]
  },
  {
   "cell_type": "code",
   "execution_count": 123,
   "metadata": {
    "id": "cRUNmdZXGd_L"
   },
   "outputs": [
    {
     "name": "stdout",
     "output_type": "stream",
     "text": [
      "z =  -0.932508582569634 ; p =  0.8244631233444343\n",
      "Chưa có bằng chứng để bác bỏ giả thuyết H0\n"
     ]
    }
   ],
   "source": [
    "#Code here\n",
    "#xác định thông số \n",
    "alpha = 0.05\n",
    "null_mean = 70\n",
    "#sinh ngẫu nhiên một mẫu 36 phần tử có trung bình mẫu là 69.7 độ lệch chuẩn là 3.5\n",
    "samples = np.random.normal(69.7,3.5,36)\n",
    "#kiểm định z\n",
    "ztest_Score, p_value= ztest(samples, value = null_mean, alternative='larger')\n",
    "print('z = ', ztest_Score, '; p = ', p_value)\n",
    "if (p_value <  alpha):\n",
    "  print(\"Có bằng chứng để bác bỏ giả thuyết H0\")\n",
    "else:\n",
    "  print(\"Chưa có bằng chứng để bác bỏ giả thuyết H0\")\n"
   ]
  },
  {
   "cell_type": "markdown",
   "metadata": {
    "id": "W5mWtp7VGd_L"
   },
   "source": [
    "Bài 5: Does an average box of cereal contain more than 368 grams of cereal?  A random sample of 25 boxes showed $\\overline{\\rm x}$ =  372.5.  The company has specified $\\sigma$ to be 25 grams.  Test at the .05 level of significance."
   ]
  },
  {
   "cell_type": "markdown",
   "metadata": {},
   "source": [
    "Ho: μ = 368\n",
    "Ha: μ > 368"
   ]
  },
  {
   "cell_type": "code",
   "execution_count": 124,
   "metadata": {
    "id": "L1ZCMuezGd_L"
   },
   "outputs": [
    {
     "name": "stdout",
     "output_type": "stream",
     "text": [
      "t =  2.87874298071812 , p =  0.008262362687442376\n",
      "Có bằng chứng để bác bỏ giả thuyết H0\n"
     ]
    }
   ],
   "source": [
    "#Code here\n",
    "alpha = 0.05\n",
    "null_mean = 368\n",
    "\n",
    "#Sinh ngẫu nhiên một mẫu 25 phần tử có trung bình mẫu là 372.5, độ lệch chuẩn là 25\n",
    "samples = np.random.normal(372.5, 25, 25)\n",
    "#Kiểm định t\n",
    "\n",
    "ttest_Score, p_value = st.ttest_1samp(samples, null_mean)\n",
    "\n",
    "print('t = ',ttest_Score,', p = ',p_value)\n",
    "if(p_value <  alpha) and (ttest_Score > 0) :\n",
    "  print(\"Có bằng chứng để bác bỏ giả thuyết H0\")\n",
    "else:\n",
    "  print(\"Chưa có bằng chứng để bác bỏ giả thuyết H0\")"
   ]
  },
  {
   "cell_type": "markdown",
   "metadata": {
    "id": "WWC7KBRTGd_M"
   },
   "source": [
    "Bài 6: You’re an analyst for Ford.  You want to find out if the average miles per gallon of Escorts is at least 32 mpg. Similar models have a standard deviation of 3.8 mpg. You take a sample of 60 Escorts & compute a sample mean of 30.7 mpg. At the .01 level of significance, is there evidence that the miles per gallon is less than 32?"
   ]
  },
  {
   "cell_type": "markdown",
   "metadata": {},
   "source": [
    "Ho: μ = 32\n",
    "Ha: μ < 32"
   ]
  },
  {
   "cell_type": "code",
   "execution_count": 127,
   "metadata": {
    "id": "WRRiNsO1Gd_M"
   },
   "outputs": [
    {
     "name": "stdout",
     "output_type": "stream",
     "text": [
      "z =  -2.346479647043819 ; p =  0.9905241493812634\n",
      "Chưa có bằng chứng để bác bỏ giả thuyết H0\n"
     ]
    }
   ],
   "source": [
    "#Code here\n",
    "alpha = 0.01\n",
    "null_mean = 32\n",
    "#sinh ngẫu nhiên một mẫu 60 phần tử có trung bình mẫu là 30.7 độ lệch chuẩn là 3.8\n",
    "samples = np.random.normal(30.7,3.8,60)\n",
    "#kiểm định z\n",
    "ztest_Score, p_value= ztest(samples, value = null_mean, alternative='larger')\n",
    "print('z = ', ztest_Score, '; p = ', p_value)\n",
    "if (p_value <  alpha)and (ztest_Score < 0):\n",
    "  print(\"Có bằng chứng để bác bỏ giả thuyết H0\")\n",
    "else:\n",
    "  print(\"Chưa có bằng chứng để bác bỏ giả thuyết H0\")"
   ]
  },
  {
   "cell_type": "markdown",
   "metadata": {
    "id": "OlFoCuweGd_M"
   },
   "source": [
    "Bài 7: Does an average box of cereal contain 368 grams of cereal?  A random sample of 25 boxes showed $\\overline{\\rm x}$ = 372.5.  The company has specified $\\sigma$ to be 15 grams.  Find the p-Value."
   ]
  },
  {
   "cell_type": "markdown",
   "metadata": {},
   "source": [
    "Ho: μ = 368\n",
    "Ha: μ ≠ 368"
   ]
  },
  {
   "cell_type": "code",
   "execution_count": 128,
   "metadata": {
    "id": "Ly8sNaswGd_M"
   },
   "outputs": [
    {
     "name": "stdout",
     "output_type": "stream",
     "text": [
      "p_value =  0.18550132229365807\n"
     ]
    }
   ],
   "source": [
    "#Code here\n",
    "#xác định thông số\n",
    "null_mean = 368\n",
    "\n",
    "#Sinh ngẫu nhiên một mẫu 25 phần tử có trung bình mẫu là 372.5, độ lệch chuẩn là 25\n",
    "samples = np.random.normal(372.5, 25, 25)\n",
    "#Kiểm định t\n",
    "ttest_Score, p_value = st.ttest_1samp(samples, null_mean)\n",
    "print('p_value = ',p_value)"
   ]
  },
  {
   "cell_type": "markdown",
   "metadata": {
    "id": "WOtKm7ZuGd_N"
   },
   "source": [
    "Bài 8: Does an average box of cereal contain more than 368 grams of cereal?  A random sample of 25 boxes showed $\\overline{\\rm x}$ = 372.5.  The company has specified $\\sigma$ to be 15 grams.  Find the p-Value."
   ]
  },
  {
   "cell_type": "markdown",
   "metadata": {},
   "source": [
    "Ho: μ = 368\n",
    "Ha: μ > 368"
   ]
  },
  {
   "cell_type": "code",
   "execution_count": 129,
   "metadata": {
    "id": "JhPC8sqzGd_N"
   },
   "outputs": [
    {
     "name": "stdout",
     "output_type": "stream",
     "text": [
      "p_value =  0.8773987777708757\n"
     ]
    }
   ],
   "source": [
    "#Code here\n",
    "#xác định thông số\n",
    "null_mean = 368\n",
    "\n",
    "#Sinh ngẫu nhiên một mẫu 25 phần tử có trung bình mẫu là 372.5, độ lệch chuẩn là 25\n",
    "samples = np.random.normal(372.5, 25, 25)\n",
    "#Kiểm định t\n",
    "ttest_Score, p_value = st.ttest_1samp(samples, null_mean)\n",
    "print('p_value = ',p_value)"
   ]
  },
  {
   "cell_type": "markdown",
   "metadata": {
    "id": "w0xuPPp0Gd_N"
   },
   "source": [
    "Bài 9: You’re an analyst for Ford.  You want to find out if the average miles per gallon of Escorts is less than 32 mpg.   Similar models have a standard deviation of 3.8 mpg.  You take a sample of 60 Escorts & compute a sample mean of 30.7 mpg.  What is the value of the observed level of significance (p-Value)?"
   ]
  },
  {
   "cell_type": "code",
   "execution_count": 130,
   "metadata": {
    "id": "ZJgVmehFGd_N"
   },
   "outputs": [
    {
     "name": "stdout",
     "output_type": "stream",
     "text": [
      "p_value =  0.6292038261236175\n"
     ]
    }
   ],
   "source": [
    "#Code here\n",
    "#xác định thông số\n",
    "null_mean = 368\n",
    "\n",
    "#Sinh ngẫu nhiên một mẫu 25 phần tử có trung bình mẫu là 372.5, độ lệch chuẩn là 25\n",
    "samples = np.random.normal(372.5, 25, 25)\n",
    "#Kiểm định t\n",
    "ttest_Score, p_value = st.ttest_1samp(samples, null_mean)\n",
    "print('p_value = ',p_value)"
   ]
  },
  {
   "cell_type": "markdown",
   "metadata": {
    "id": "sNS2PSA8Gd_O"
   },
   "source": [
    "Bài 10: Does an average box of cereal contain 368 grams of cereal?  A random sample of 36 boxes had a mean of 372.5 and a standard deviation of 12 grams. Test at the .05 level of significance."
   ]
  },
  {
   "cell_type": "markdown",
   "metadata": {},
   "source": [
    "Ho: μ = 368\n",
    "Ha: μ ≠ 368"
   ]
  },
  {
   "cell_type": "code",
   "execution_count": 131,
   "metadata": {
    "id": "Uk8FVklbGd_O"
   },
   "outputs": [
    {
     "name": "stdout",
     "output_type": "stream",
     "text": [
      "z =  2.472030610443026 ; p =  0.0067174006103574765\n",
      "Có bằng chứng để bác bỏ giả thuyết H0\n"
     ]
    }
   ],
   "source": [
    "#xác định thông số\n",
    "alpha = 0.05\n",
    "null_mean = 368\n",
    "\n",
    "#Sinh ngẫu nhiên một mẫu 25 phần tử có trung bình mẫu là 372.5, độ lệch chuẩn là 25\n",
    "samples = np.random.normal(372.5, 12, 36)\n",
    "#Kiểm định z\n",
    "ztest_Score, p_value= ztest(samples, value = null_mean, alternative='larger')\n",
    "print('z = ', ztest_Score, '; p = ', p_value)\n",
    "if (p_value <  alpha/2):\n",
    "  print(\"Có bằng chứng để bác bỏ giả thuyết H0\")\n",
    "else:\n",
    "  print(\"Chưa có bằng chứng để bác bỏ giả thuyết H0\")"
   ]
  },
  {
   "cell_type": "markdown",
   "metadata": {
    "id": "KagGSTTPGd_O"
   },
   "source": [
    "Bài 11: You work for the FTC.  A manufacturer of detergent claims that the mean weight of detergent is 3.25 lb.  You take a random sample of 64 containers.  You calculate the sample average to be 3.238 lb. with a standard deviation of .117 lb.  At the .01 level of significance, is the manufacturer correct?"
   ]
  },
  {
   "cell_type": "markdown",
   "metadata": {},
   "source": [
    "H0: μ = 3.25\n",
    "\n",
    "Ha: μ >< 3.25"
   ]
  },
  {
   "cell_type": "code",
   "execution_count": 103,
   "metadata": {
    "id": "AKgE52srGd_O"
   },
   "outputs": [
    {
     "name": "stdout",
     "output_type": "stream",
     "text": [
      "z =  -0.9721014610108145 ; p =  0.8344999623060587\n",
      "Chưa có bằng chứng để bác bỏ giả thuyết H0\n"
     ]
    }
   ],
   "source": [
    "#Code here\n",
    "alpha = 0.01\n",
    "null_mean = 3.25\n",
    "#Sinh ngẫu nhiên một mẫu 64 phần tử có trung bình mẫu là 3.238, độ lệch chuẩn là 0.117\n",
    "samples = np.random.normal(3.238, 0.117, 64)\n",
    "ztest_Score, p_value= ztest(samples, value = null_mean, alternative='larger')\n",
    "print('z = ', ztest_Score, '; p = ', p_value)\n",
    "if (p_value <  alpha/2):\n",
    "  print(\"Có bằng chứng để bác bỏ giả thuyết H0\")\n",
    "else:\n",
    "  print(\"Chưa có bằng chứng để bác bỏ giả thuyết H0\")"
   ]
  },
  {
   "cell_type": "markdown",
   "metadata": {
    "id": "oOehd6WOGd_O"
   },
   "source": [
    "Bài 12: Is the average capacity of batteries less than 140 ampere-hours?  A random sample of 20 batteries had a mean of 138.47 and a standard deviation of 2.66.  Assume a normal distribution. Test at the .05 level of significance."
   ]
  },
  {
   "cell_type": "markdown",
   "metadata": {},
   "source": [
    "H0: μ = 140\n",
    "\n",
    "Ha: μ > 140"
   ]
  },
  {
   "cell_type": "code",
   "execution_count": 104,
   "metadata": {
    "id": "OAqFen_LGd_P"
   },
   "outputs": [
    {
     "name": "stdout",
     "output_type": "stream",
     "text": [
      "t =  -2.5578143261878115 , p =  0.019237356667553662\n",
      "Chưa có bằng chứng để bác bỏ giả thuyết H0\n"
     ]
    }
   ],
   "source": [
    "#Code here\n",
    "alpha = 0.05\n",
    "null_mean = 140\n",
    "#Sinh ngẫu nhiên một mẫu 20 phần tử có trung bình mẫu là 138.47, độ lệch chuẩn là 2.66\n",
    "samples = np.random.normal(138.47, 2.66, 20)\n",
    "#Kiểm định t\n",
    "ttest_Score, p_value = st.ttest_1samp(samples, null_mean)\n",
    "print('t = ',ttest_Score,', p = ',p_value)\n",
    "if(p_value <  alpha) and (ttest_Score>0):\n",
    "  print(\"Có bằng chứng để bác bỏ giả thuyết H0\")\n",
    "else:\n",
    "  print(\"Chưa có bằng chứng để bác bỏ giả thuyết H0\")"
   ]
  },
  {
   "cell_type": "markdown",
   "metadata": {
    "id": "7YZ__fcJGd_P"
   },
   "source": [
    "Bài 13: You’re a marketing analyst for Wal-Mart.  Wal-Mart had teddy bears on sale last week.  The weekly sales of bears sold in 10 stores was: 8  11  0   4   7   8   10   5   8   3. At the .05 level of significance, is there evidence that the average bear sales per store is more than 5?"
   ]
  },
  {
   "cell_type": "markdown",
   "metadata": {},
   "source": [
    "H0: μ = 5\n",
    "\n",
    "Ha: μ > 5"
   ]
  },
  {
   "cell_type": "code",
   "execution_count": 105,
   "metadata": {
    "id": "3p7QBKppGd_P"
   },
   "outputs": [
    {
     "name": "stdout",
     "output_type": "stream",
     "text": [
      "t =  1.3125000000000004 , p =  0.2218341554238571\n",
      "Chưa có bằng chứng để bác bỏ giả thuyết H0\n"
     ]
    }
   ],
   "source": [
    "#Code here\n",
    "a = np.array([8,11,0,4,7,8,10,5,8,3])\n",
    "alpha = 0.05\n",
    "null_mean = 5\n",
    "#Kiểm định t\n",
    "ttest_Score, p_value = st.ttest_1samp(a, null_mean)\n",
    "print('t = ',ttest_Score,', p = ',p_value)\n",
    "if(p_value <  alpha) and (ttest_Score > 0):\n",
    "  print(\"Có bằng chứng để bác bỏ giả thuyết H0\")\n",
    "else:\n",
    "  print(\"Chưa có bằng chứng để bác bỏ giả thuyết H0\")"
   ]
  },
  {
   "cell_type": "code",
   "execution_count": null,
   "metadata": {
    "id": "Tf7oXMuoGd_P"
   },
   "outputs": [],
   "source": []
  }
 ],
 "metadata": {
  "colab": {
   "name": "bai-tap-kiem-dinh-z-t.ipynb",
   "provenance": []
  },
  "kernelspec": {
   "display_name": "Python 3",
   "language": "python",
   "name": "python3"
  },
  "language_info": {
   "codemirror_mode": {
    "name": "ipython",
    "version": 3
   },
   "file_extension": ".py",
   "mimetype": "text/x-python",
   "name": "python",
   "nbconvert_exporter": "python",
   "pygments_lexer": "ipython3",
   "version": "3.8.5"
  }
 },
 "nbformat": 4,
 "nbformat_minor": 1
}
