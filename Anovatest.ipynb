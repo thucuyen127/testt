{
 "cells": [
  {
   "cell_type": "markdown",
   "metadata": {
    "id": "dTDfrlGeP7s2"
   },
   "source": [
    "PHÂN TÍCH ANOVA MỘT CHIỀU\n",
    "\n",
    "Phân tích ANOVA chấp nhận các giả định sau:\n",
    "\n",
    "(1) Tất cả các nhóm đều độc lập với nhau\n",
    "\n",
    "(2) Dữ liệu của mỗi nhóm đều tuân theo phân phối chuẩn. Tính chất này có thể được kiểm định bằng phương pháp Shapiro-Wilks.\n",
    "\n",
    "(3) Phương sai (variance) của các nhóm bằng nhau. Tính chất này có thể được kiểm định bằng phương pháp kiểm định Bartlett hay Levene.\n",
    "\n",
    "Nếu dữ liệu hiện có thỏa mãn các tính chất trên thì chúng ta mới tiến hành kiểm định ANOVA. Do vậy trước khi tiến hành kiểm định ANOVA, chúng ta cần thực hiện kiểm tra tập dữ liệu cần thỏa mãn 3 tính chất trên.\n",
    "    "
   ]
  },
  {
   "cell_type": "code",
   "execution_count": 12,
   "metadata": {},
   "outputs": [],
   "source": [
    "#Thư viện\n",
    "from scipy import stats\n",
    "from scipy.stats import f_oneway"
   ]
  },
  {
   "cell_type": "code",
   "execution_count": 13,
   "metadata": {
    "id": "Fv6nI38gP7s-"
   },
   "outputs": [
    {
     "name": "stdout",
     "output_type": "stream",
     "text": [
      "[12.56095672 14.25816799 15.25047265 18.8179079  13.17269311 17.6911429\n",
      " 17.96960185 14.76563251 15.49685069 14.73827493]\n"
     ]
    }
   ],
   "source": [
    "#Bước 1: Hãy tạo một tập dữ liệu mẫu sample_1 với kích thước 100 tuân theo phân phối chuẩn, std = 2, mean = 15\n",
    "sample_1 =  stats.norm.rvs(loc = 15, scale = 2, size = 100)\n",
    "print(sample_1[:10])"
   ]
  },
  {
   "cell_type": "code",
   "execution_count": 14,
   "metadata": {
    "id": "e1h9SDW-P7s_"
   },
   "outputs": [
    {
     "name": "stdout",
     "output_type": "stream",
     "text": [
      "[18 18 19 19 18 18 20 20 18 18]\n"
     ]
    }
   ],
   "source": [
    "#Bước 2: hãy tạo tập dữ liệu mẫu sample_2 với kích thước 100 tuân theo phân phối Poisson\n",
    "sample_2 = stats.poisson.rvs(loc = 17, mu = 2, size=1000)\n",
    "print(sample_2[:10])"
   ]
  },
  {
   "cell_type": "markdown",
   "metadata": {
    "id": "QRhWn8E0P7tA"
   },
   "source": [
    "Hãy tham khảo các hướng dẫn sau để kiểm định tính chất thứ 2 bằng phương pháp Shapiro-Wilks đối với sample_1 và sample_2\n",
    "\n",
    "(1) [Tài liệu tham khảo scipy](https://docs.scipy.org/doc/scipy/reference/generated/scipy.stats.shapiro.html)\n",
    "\n",
    "(2) [Hướng dẫn cụ thể của statology](https://www.statology.org/shapiro-wilk-test-python/)"
   ]
  },
  {
   "cell_type": "code",
   "execution_count": 15,
   "metadata": {},
   "outputs": [
    {
     "name": "stdout",
     "output_type": "stream",
     "text": [
      "sample_1\n",
      "statistic =  0.9621093273162842\n",
      "p_value =  0.005701391026377678\n",
      "Đây không phải dữ liệu phân phối chuẩn 0.005701391026377678\n",
      "--------------------------------------------------\n",
      "sample_2\n",
      "statistic =  0.9234719276428223\n",
      "p_value =  3.9828819700720287e-22\n",
      "Đây không phải dữ liệu phân phối chuẩn 3.9828819700720287e-22\n"
     ]
    }
   ],
   "source": [
    "#Kiểm định  stats.shapiro(x) của sample_1 và sample_2\n",
    "\n",
    "print('sample_1')\n",
    "st1, p1 = stats.shapiro(sample_1)\n",
    "print('statistic = ',st1)\n",
    "print('p_value = ',p1)\n",
    "\n",
    "\n",
    "if (p1<0.05):\n",
    "    print('Đây không phải dữ liệu phân phối chuẩn', p1)\n",
    "else:\n",
    "    print('Không đủ bằng chứng để bác bỏ: đây là dữ liệu phân phối chuẩn', p1)\n",
    "\n",
    "print('-'*50)\n",
    "print('sample_2')\n",
    "st2, p2 = stats.shapiro(sample_2)\n",
    "print('statistic = ',st2)\n",
    "print('p_value = ',p2)\n",
    "\n",
    "\n",
    "if (p2<0.05):\n",
    "    print('Đây không phải dữ liệu phân phối chuẩn', p2)\n",
    "else:\n",
    "    print('Không đủ bằng chứng để bác bỏ: đây là dữ liệu phân phối chuẩn', p2)"
   ]
  },
  {
   "cell_type": "code",
   "execution_count": null,
   "metadata": {},
   "outputs": [],
   "source": []
  },
  {
   "cell_type": "code",
   "execution_count": 16,
   "metadata": {
    "id": "uXTuZrIGP7tA"
   },
   "outputs": [],
   "source": [
    "#Code kiểm định tính chất thứ 2 của sample_1 và sample_2\n"
   ]
  },
  {
   "cell_type": "markdown",
   "metadata": {
    "id": "RCd4kt2bP7tB"
   },
   "source": [
    "Hãy tham khảo các hướng dẫn sau để kiểm định tính chất thứ 3 bằng kiểm định Bartlett hoặc kiểm định Levene\n",
    "\n",
    "(1) [Hướng dẫn tổng quát](https://www.marsja.se/levenes-bartletts-test-of-equality-homogeneity-of-variance-in-python/)\n",
    "\n",
    "(2) [Hướng dẫn ở stackoverflow](https://stackoverflow.com/questions/36141254/how-to-test-for-homoscedasticity-having-the-same-population-variance-in-python)\n",
    "\n",
    "(3) Sử dụng bài giảng về kiểm định Bartlett và Levene ở buổi trước"
   ]
  },
  {
   "cell_type": "code",
   "execution_count": 17,
   "metadata": {
    "id": "A64yofCLP7tB"
   },
   "outputs": [
    {
     "name": "stdout",
     "output_type": "stream",
     "text": [
      "statistic by Bartlett =  30.05762868098451\n",
      "pvalue by Bartlett =  4.1939540223889776e-08\n",
      "--------------------------------------------------\n",
      "statistic by levene =  18.17992080220643\n",
      "pvalue by levene =  2.1826828142149678e-05\n"
     ]
    }
   ],
   "source": [
    "#Code kiểm định tính đồng nhất về phương sai của các nhóm\n",
    "\n",
    "st12, p12 = stats.bartlett(sample_1, sample_2)\n",
    "print('statistic by Bartlett = ',st12)\n",
    "print('pvalue by Bartlett = ',p12)\n",
    "\n",
    "print('-'*50)\n",
    "\n",
    "st3, p3 = stats.levene(sample_1, sample_2)\n",
    "print('statistic by levene = ',st3)\n",
    "print('pvalue by levene = ',p3)"
   ]
  },
  {
   "cell_type": "code",
   "execution_count": 18,
   "metadata": {},
   "outputs": [
    {
     "name": "stdout",
     "output_type": "stream",
     "text": [
      "pvalue by Bartlett =  4.1939540223889776e-08\n",
      "Reject H0 4.1939540223889776e-08\n"
     ]
    }
   ],
   "source": [
    "print('pvalue by Bartlett = ',p12)\n",
    "if (p12<0.05):\n",
    "    print('Reject H0', p12)\n",
    "else:\n",
    "    print('Cant Reject H0', p12)"
   ]
  },
  {
   "cell_type": "code",
   "execution_count": 19,
   "metadata": {},
   "outputs": [
    {
     "name": "stdout",
     "output_type": "stream",
     "text": [
      "pvalue by levene =  2.1826828142149678e-05\n",
      "Đây không phải các dữ liệu đồng nhất 2.1826828142149678e-05\n"
     ]
    }
   ],
   "source": [
    "print('pvalue by levene = ',p3)\n",
    "if (p3<0.05):\n",
    "    print('Đây không phải các dữ liệu đồng nhất', p3)\n",
    "else:\n",
    "    print('Không đủ bằng chứng để bác bỏ: đây là các dư liệu đồng nhất', p3)"
   ]
  },
  {
   "cell_type": "code",
   "execution_count": 20,
   "metadata": {},
   "outputs": [
    {
     "name": "stdout",
     "output_type": "stream",
     "text": [
      "P_value =  3.611425415922186e-113\n",
      "Các dữ liệu có khác biệt 3.611425415922186e-113\n"
     ]
    }
   ],
   "source": [
    "#code kiểm định anova\n",
    "st , p = f_oneway(sample_1, sample_2)\n",
    "print('P_value = ',p)\n",
    "if (p<0.05):\n",
    "    print('Các dữ liệu có khác biệt', p)\n",
    "else:\n",
    "    print('Không đủ bằng chứng để bác bỏ: Các dữ liệu khác biệt', p)"
   ]
  },
  {
   "cell_type": "code",
   "execution_count": null,
   "metadata": {
    "id": "-duDOevLP7tC"
   },
   "outputs": [],
   "source": [
    "\n"
   ]
  },
  {
   "cell_type": "code",
   "execution_count": null,
   "metadata": {},
   "outputs": [],
   "source": []
  },
  {
   "cell_type": "code",
   "execution_count": null,
   "metadata": {},
   "outputs": [],
   "source": []
  }
 ],
 "metadata": {
  "colab": {
   "name": "huong-dan-gia-dinh-ANOVA.ipynb",
   "provenance": []
  },
  "kernelspec": {
   "display_name": "Python 3",
   "language": "python",
   "name": "python3"
  },
  "language_info": {
   "codemirror_mode": {
    "name": "ipython",
    "version": 3
   },
   "file_extension": ".py",
   "mimetype": "text/x-python",
   "name": "python",
   "nbconvert_exporter": "python",
   "pygments_lexer": "ipython3",
   "version": "3.8.3"
  }
 },
 "nbformat": 4,
 "nbformat_minor": 1
}
