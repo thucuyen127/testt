{
 "cells": [
  {
   "cell_type": "markdown",
   "metadata": {
    "id": "dTDfrlGeP7s2"
   },
   "source": [
    "PHÂN TÍCH ANOVA MỘT CHIỀU\n",
    "\n",
    "Phân tích ANOVA chấp nhận các giả định sau:\n",
    "\n",
    "(1) Tất cả các nhóm đều độc lập với nhau\n",
    "\n",
    "(2) Dữ liệu của mỗi nhóm đều tuân theo phân phối chuẩn. Tính chất này có thể được kiểm định bằng phương pháp Shapiro-Wilks.\n",
    "\n",
    "(3) Phương sai (variance) của các nhóm bằng nhau. Tính chất này có thể được kiểm định bằng phương pháp kiểm định Bartlett hay Levene.\n",
    "\n",
    "Nếu dữ liệu hiện có thỏa mãn các tính chất trên thì chúng ta mới tiến hành kiểm định ANOVA. Do vậy trước khi tiến hành kiểm định ANOVA, chúng ta cần thực hiện kiểm tra tập dữ liệu cần thỏa mãn 3 tính chất trên.\n",
    "    "
   ]
  },
  {
   "cell_type": "code",
   "execution_count": 39,
   "metadata": {},
   "outputs": [],
   "source": [
    "#Thư viện\n",
    "from scipy import stats\n",
    "from scipy.stats import f_oneway"
   ]
  },
  {
   "cell_type": "code",
   "execution_count": 7,
   "metadata": {
    "id": "Fv6nI38gP7s-"
   },
   "outputs": [
    {
     "name": "stdout",
     "output_type": "stream",
     "text": [
      "[15.83042053 13.82915543 15.81888414 13.98145545 17.30666353 10.08391339\n",
      " 17.11108339 11.3361563  14.45258699 14.55510883]\n"
     ]
    }
   ],
   "source": [
    "#Bước 1: Hãy tạo một tập dữ liệu mẫu sample_1 với kích thước 100 tuân theo phân phối chuẩn, std = 2, mean = 15\n",
    "sample_1 =  stats.norm.rvs(loc = 15, scale = 2, size = 100)\n",
    "print(sample_1[:10])"
   ]
  },
  {
   "cell_type": "code",
   "execution_count": 21,
   "metadata": {
    "id": "e1h9SDW-P7s_"
   },
   "outputs": [
    {
     "name": "stdout",
     "output_type": "stream",
     "text": [
      "[18 22 18 18 19 19 19 21 17 18]\n"
     ]
    }
   ],
   "source": [
    "#Bước 2: hãy tạo tập dữ liệu mẫu sample_2 với kích thước 100 tuân theo phân phối Poisson\n",
    "sample_2 = stats.poisson.rvs(loc = 17, mu = 2, size=1000)\n",
    "print(sample_2[:10])"
   ]
  },
  {
   "cell_type": "markdown",
   "metadata": {
    "id": "QRhWn8E0P7tA"
   },
   "source": [
    "Hãy tham khảo các hướng dẫn sau để kiểm định tính chất thứ 2 bằng phương pháp Shapiro-Wilks đối với sample_1 và sample_2\n",
    "\n",
    "(1) [Tài liệu tham khảo scipy](https://docs.scipy.org/doc/scipy/reference/generated/scipy.stats.shapiro.html)\n",
    "\n",
    "(2) [Hướng dẫn cụ thể của statology](https://www.statology.org/shapiro-wilk-test-python/)"
   ]
  },
  {
   "cell_type": "code",
   "execution_count": 46,
   "metadata": {},
   "outputs": [
    {
     "name": "stdout",
     "output_type": "stream",
     "text": [
      "sample_1\n",
      "statistic =  0.9941945672035217\n",
      "pvalue =  0.9485941529273987\n",
      "Reject H0 0.9485941529273987\n",
      "--------------------------------------------------\n",
      "sample_2\n",
      "statistic =  0.914847195148468\n",
      "pvalue =  2.956866820656383e-23\n",
      "Reject H0 2.956866820656383e-23\n"
     ]
    }
   ],
   "source": [
    "#Kiểm định  stats.shapiro(x) của sample_1 và sample_2\n",
    "\n",
    "print('sample_1')\n",
    "st1, p1 = stats.shapiro(sample_1)\n",
    "print('statistic = ',st1)\n",
    "print('pvalue = ',p1)\n",
    "\n",
    "\n",
    "if (p<0.05):\n",
    "    print('Reject H0', p1)\n",
    "else:\n",
    "    print('Cant Reject H0', p1)\n",
    "\n",
    "print('-'*50)\n",
    "print('sample_2')\n",
    "st2, p2 = stats.shapiro(sample_2)\n",
    "print('statistic = ',st2)\n",
    "print('pvalue = ',p2)\n",
    "\n",
    "\n",
    "if (p<0.05):\n",
    "    print('Reject H0', p2)\n",
    "else:\n",
    "    print('Cant Reject H0', p2)"
   ]
  },
  {
   "cell_type": "code",
   "execution_count": null,
   "metadata": {},
   "outputs": [],
   "source": []
  },
  {
   "cell_type": "code",
   "execution_count": null,
   "metadata": {
    "id": "uXTuZrIGP7tA"
   },
   "outputs": [],
   "source": [
    "#Code kiểm định tính chất thứ 2 của sample_1 và sample_2\n"
   ]
  },
  {
   "cell_type": "markdown",
   "metadata": {
    "id": "RCd4kt2bP7tB"
   },
   "source": [
    "Hãy tham khảo các hướng dẫn sau để kiểm định tính chất thứ 3 bằng kiểm định Bartlett hoặc kiểm định Levene\n",
    "\n",
    "(1) [Hướng dẫn tổng quát](https://www.marsja.se/levenes-bartletts-test-of-equality-homogeneity-of-variance-in-python/)\n",
    "\n",
    "(2) [Hướng dẫn ở stackoverflow](https://stackoverflow.com/questions/36141254/how-to-test-for-homoscedasticity-having-the-same-population-variance-in-python)\n",
    "\n",
    "(3) Sử dụng bài giảng về kiểm định Bartlett và Levene ở buổi trước"
   ]
  },
  {
   "cell_type": "code",
   "execution_count": 36,
   "metadata": {
    "id": "A64yofCLP7tB"
   },
   "outputs": [
    {
     "name": "stdout",
     "output_type": "stream",
     "text": [
      "statistic by Bartlett =  35.1936077541569\n",
      "pvalue by Bartlett =  2.985017388518062e-09\n",
      "--------------------------------------------------\n",
      "statistic by levene =  33.1893674996701\n",
      "pvalue by levene =  1.0849341888142465e-08\n"
     ]
    }
   ],
   "source": [
    "#Code kiểm định tính đồng nhất về phương sai của các nhóm\n",
    "\n",
    "st12, p12 = stats.bartlett(sample_1, sample_2)\n",
    "print('statistic by Bartlett = ',st12)\n",
    "print('pvalue by Bartlett = ',p12)\n",
    "\n",
    "print('-'*50)\n",
    "\n",
    "st3, p3 = stats.levene(sample_1, sample_2)\n",
    "print('statistic by levene = ',st3)\n",
    "print('pvalue by levene = ',p3)"
   ]
  },
  {
   "cell_type": "code",
   "execution_count": 43,
   "metadata": {},
   "outputs": [
    {
     "name": "stdout",
     "output_type": "stream",
     "text": [
      "pvalue by Bartlett =  2.985017388518062e-09\n",
      "Reject H0 2.985017388518062e-09\n"
     ]
    }
   ],
   "source": [
    "print('pvalue by Bartlett = ',p12)\n",
    "if (p<0.05):\n",
    "    print('Reject H0', p12)\n",
    "else:\n",
    "    print('Cant Reject H0', p12)"
   ]
  },
  {
   "cell_type": "code",
   "execution_count": 44,
   "metadata": {},
   "outputs": [
    {
     "name": "stdout",
     "output_type": "stream",
     "text": [
      "pvalue by levene =  1.0849341888142465e-08\n",
      "Reject H0 1.0849341888142465e-08\n"
     ]
    }
   ],
   "source": [
    "print('pvalue by levene = ',p3)\n",
    "if (p<0.05):\n",
    "    print('Reject H0', p3)\n",
    "else:\n",
    "    print('Cant Reject H0', p3)"
   ]
  },
  {
   "cell_type": "code",
   "execution_count": 42,
   "metadata": {},
   "outputs": [
    {
     "name": "stdout",
     "output_type": "stream",
     "text": [
      "P_value =  1.5869296958848656e-113\n",
      "Reject H0 1.5869296958848656e-113\n"
     ]
    }
   ],
   "source": [
    "#code kiểm định anova\n",
    "st , p = f_oneway(sample_1, sample_2)\n",
    "print('P_value = ',p)\n",
    "if (p<0.05):\n",
    "    print('Reject H0', p)\n",
    "else:\n",
    "    print('Cant Reject H0', p)"
   ]
  },
  {
   "cell_type": "code",
   "execution_count": null,
   "metadata": {
    "id": "-duDOevLP7tC"
   },
   "outputs": [],
   "source": [
    "\n"
   ]
  }
 ],
 "metadata": {
  "colab": {
   "name": "huong-dan-gia-dinh-ANOVA.ipynb",
   "provenance": []
  },
  "kernelspec": {
   "display_name": "Python 3",
   "language": "python",
   "name": "python3"
  },
  "language_info": {
   "codemirror_mode": {
    "name": "ipython",
    "version": 3
   },
   "file_extension": ".py",
   "mimetype": "text/x-python",
   "name": "python",
   "nbconvert_exporter": "python",
   "pygments_lexer": "ipython3",
   "version": "3.8.3"
  }
 },
 "nbformat": 4,
 "nbformat_minor": 1
}
