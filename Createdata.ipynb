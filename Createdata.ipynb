{
 "cells": [
  {
   "cell_type": "markdown",
   "metadata": {
    "id": "YAd34y3HUyXG"
   },
   "source": [
    "Sử dụng thư viện Numpy\n",
    "\n",
    "1. Sinh mẫu ngẫu nhiên bằng hàm arange trong khoảng [-15, 27] với khoảng cách là 0.7 và in kết quả ra màn hình"
   ]
  },
  {
   "cell_type": "code",
   "execution_count": 240,
   "metadata": {
    "id": "p9pQb6kCV31s"
   },
   "outputs": [],
   "source": [
    "import numpy as np\n",
    "from scipy import stats"
   ]
  },
  {
   "cell_type": "code",
   "execution_count": 20,
   "metadata": {
    "id": "1q-GNitzUyXK"
   },
   "outputs": [
    {
     "data": {
      "text/plain": [
       "array([-15. , -14.3, -13.6, -12.9, -12.2, -11.5, -10.8, -10.1,  -9.4,\n",
       "        -8.7,  -8. ,  -7.3,  -6.6,  -5.9,  -5.2,  -4.5,  -3.8,  -3.1,\n",
       "        -2.4,  -1.7,  -1. ,  -0.3,   0.4,   1.1,   1.8,   2.5,   3.2,\n",
       "         3.9,   4.6,   5.3,   6. ,   6.7,   7.4,   8.1,   8.8,   9.5,\n",
       "        10.2,  10.9,  11.6,  12.3,  13. ,  13.7,  14.4,  15.1,  15.8,\n",
       "        16.5,  17.2,  17.9,  18.6,  19.3,  20. ,  20.7,  21.4,  22.1,\n",
       "        22.8,  23.5,  24.2,  24.9,  25.6,  26.3,  27. ])"
      ]
     },
     "execution_count": 20,
     "metadata": {},
     "output_type": "execute_result"
    }
   ],
   "source": [
    "#Code numpy.arange([start, ]stop, [step, ]dtype=None, *, like=None)\n",
    "e1 = np.arange(-15, 27, step = 0.7)\n",
    "e1"
   ]
  },
  {
   "cell_type": "markdown",
   "metadata": {
    "id": "Ei1buR_zUyXL"
   },
   "source": [
    "2. Sinh mẫu ngẫu nhiên theo phân phối chuẩn với mean = 2.7 std = 1.2 và size = 40\n",
    "In kết quả ra màn hình"
   ]
  },
  {
   "cell_type": "code",
   "execution_count": 19,
   "metadata": {
    "id": "Arhip7BPUyXL"
   },
   "outputs": [
    {
     "data": {
      "text/plain": [
       "array([ 0.31969281,  3.24977043,  3.23036257,  0.62712978,  1.22562488,\n",
       "        3.33903478,  4.5780819 ,  1.88184611,  3.46388438,  3.861587  ,\n",
       "        2.81623159,  2.70311452,  1.22563226,  2.0692306 ,  3.43669407,\n",
       "        2.97615831,  3.08015462,  4.48242788,  2.11517466,  5.6428298 ,\n",
       "       -0.21823125,  2.07058971,  5.08099095,  2.29148765,  3.40668462,\n",
       "        1.60245898,  4.08441745,  2.27977613,  3.00237408,  4.00546484,\n",
       "        2.7065522 ,  2.25159238,  3.59864936,  3.22410502,  2.94531496,\n",
       "        3.65614596,  1.32384842,  1.43188654,  2.20131217,  2.69492898])"
      ]
     },
     "execution_count": 19,
     "metadata": {},
     "output_type": "execute_result"
    }
   ],
   "source": [
    "#Code\n",
    "e2 = np.random.normal(2.7,1.2, 40)\n",
    "e2"
   ]
  },
  {
   "cell_type": "markdown",
   "metadata": {
    "id": "hG8WE4joUyXM"
   },
   "source": [
    "3. Sinh mẫu ngẫu nhiên từ vector ['Viet Nam', 'Britain', 'France', 'Russia', 'Singapore'] \n",
    "\n",
    "với kích thước là 17 theo phân phối chuẩn"
   ]
  },
  {
   "cell_type": "code",
   "execution_count": 17,
   "metadata": {
    "id": "pvDv3ZE4UyXM"
   },
   "outputs": [
    {
     "data": {
      "text/plain": [
       "['Britain',\n",
       " 'France',\n",
       " 'Viet Nam',\n",
       " 'France',\n",
       " 'Russia',\n",
       " 'Britain',\n",
       " 'Russia',\n",
       " 'Viet Nam',\n",
       " 'France',\n",
       " 'Singapore',\n",
       " 'Russia',\n",
       " 'France',\n",
       " 'France',\n",
       " 'France',\n",
       " 'France',\n",
       " 'Russia',\n",
       " 'Britain']"
      ]
     },
     "execution_count": 17,
     "metadata": {},
     "output_type": "execute_result"
    }
   ],
   "source": [
    "#Code\n",
    "items = ['Viet Nam', 'Britain', 'France', 'Russia', 'Singapore']\n",
    "e3 = random.choices(items, k = 17)\n",
    "e3"
   ]
  },
  {
   "cell_type": "markdown",
   "metadata": {
    "id": "_gF0wyDrUyXM"
   },
   "source": [
    "4. Sinh mẫu ngẫu nhiên ở câu 3 nhưng không theo phân phối chuẩn mà theo 1 vector đặc tả giá trị xác suất do bạn chọn"
   ]
  },
  {
   "cell_type": "code",
   "execution_count": 22,
   "metadata": {
    "id": "lOhQWCtnUyXM"
   },
   "outputs": [
    {
     "data": {
      "text/plain": [
       "array(['Singapore', 'France', 'Britain', 'Britain', 'Britain', 'France',\n",
       "       'France', 'France', 'Singapore', 'Viet Nam', 'France', 'France',\n",
       "       'France', 'Viet Nam', 'France', 'Singapore', 'France'], dtype='<U9')"
      ]
     },
     "execution_count": 22,
     "metadata": {},
     "output_type": "execute_result"
    }
   ],
   "source": [
    "#Code\n",
    "e4 = np.random.choice(items, 17, p = [0.2, 0.2, 0.25, 0.15, 0.2])\n",
    "e4"
   ]
  },
  {
   "cell_type": "markdown",
   "metadata": {
    "id": "MSeinU39UyXN"
   },
   "source": [
    "Sử dụng thư việc scipy.stats để sinh mẫu ngẫu nhiên\n",
    "\n",
    "1. Sinh mẫu ngẫu nhiên theo phân phối chuẩn với mean = 12.7, std = 2.6 và size = 30. In kết quả ra màn hình"
   ]
  },
  {
   "cell_type": "code",
   "execution_count": 25,
   "metadata": {
    "id": "yV82-tgAUyXN"
   },
   "outputs": [
    {
     "data": {
      "text/plain": [
       "array([12.60016267, 13.61408896, 12.99893395, 13.86406353, 11.09152776,\n",
       "        8.95601577, 12.78930307, 15.37195717, 11.82845324, 10.75428936,\n",
       "       14.81549474, 11.81551497,  7.86442393,  8.67974117, 14.38646471,\n",
       "        9.22991373, 10.50400699, 10.67076246, 11.4104391 ,  9.28844765,\n",
       "       10.05652646, 14.5757737 , 13.68516588, 11.57695852, 15.82045234,\n",
       "       16.66785754, 12.88586141, 12.67042319, 10.10627692,  9.64634887])"
      ]
     },
     "execution_count": 25,
     "metadata": {},
     "output_type": "execute_result"
    }
   ],
   "source": [
    "#Code\n",
    "e5 = stats.norm.rvs(loc = 12.7, scale = 2.6, size = 30)\n",
    "e5"
   ]
  },
  {
   "cell_type": "markdown",
   "metadata": {
    "id": "zocjjvv2UyXN"
   },
   "source": [
    "2. Hãy sinh một mẫu ngẫu nhiên theo phân phối Poisson"
   ]
  },
  {
   "cell_type": "code",
   "execution_count": 33,
   "metadata": {
    "id": "dfIbC0raUyXN"
   },
   "outputs": [
    {
     "data": {
      "text/plain": [
       "array([15, 16, 14, 16, 16, 16, 17, 14, 15, 13, 15, 13, 12, 14, 13, 16, 14,\n",
       "       12, 14, 16, 13, 14, 14, 14, 20, 15, 13, 14, 16, 12])"
      ]
     },
     "execution_count": 33,
     "metadata": {},
     "output_type": "execute_result"
    }
   ],
   "source": [
    "#Code\n",
    "e5 = stats.poisson.rvs(loc = 12.7, mu = 2.6, size = 30)\n",
    "e5"
   ]
  },
  {
   "cell_type": "code",
   "execution_count": null,
   "metadata": {
    "id": "sAQz2-BCUyXO"
   },
   "outputs": [],
   "source": []
  }
 ],
 "metadata": {
  "colab": {
   "name": "bai-tap-sinh-mau-ngau-nhien.ipynb",
   "provenance": []
  },
  "kernelspec": {
   "display_name": "Python 3",
   "language": "python",
   "name": "python3"
  },
  "language_info": {
   "codemirror_mode": {
    "name": "ipython",
    "version": 3
   },
   "file_extension": ".py",
   "mimetype": "text/x-python",
   "name": "python",
   "nbconvert_exporter": "python",
   "pygments_lexer": "ipython3",
   "version": "3.8.5"
  }
 },
 "nbformat": 4,
 "nbformat_minor": 1
}
