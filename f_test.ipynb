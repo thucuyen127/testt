{
 "cells": [
  {
   "cell_type": "markdown",
   "metadata": {
    "id": "srqWbAMsKjXt"
   },
   "source": [
    "KIỂM ĐỊNH F\n",
    "\n",
    "Thay vì xây dựng giả thuyết với giá trị trung bình, người ta có thể xây dựng giả thuyết với phương sai (variance $\\sigma^{2}$). Trong trường hợp này, chúng ta sử dụng kiểm định F. Tóm tắt về kiểm định F như sau:\n",
    "\n",
    "Kiểm định một đuôi:\n",
    "\n",
    "$$H_{0}: \\sigma^{2} = \\sigma_{0}^{2} $$\n",
    "\n",
    "$$H_{a}: \\sigma^{2} < \\sigma_{0}^{2} (H_{a}: \\sigma^{2} > \\sigma_{0}^{2})$$ \n",
    "\n",
    "Giá trị thống kê kiểm định:\n",
    "\n",
    "$$ \\chi^{2} = \\frac{(n-1)s^{2}}{\\sigma_{0}^{2}}$$\n",
    "\n",
    "Vùng bác bỏ: $\\chi^{2} < \\chi_{(1 - \\alpha)}^{2}$  hoặc $\\chi^{2} > \\chi_{(1 - \\alpha)}^{2}$  khi $H_{a}: \\sigma^{2} > \\sigma_{0}^{2}$\n",
    "\n",
    "Ghi chú: \n",
    "\n",
    "- $\\chi^{2}$ - chi-square\n",
    "- (n - 1) mức tự do\n",
    "\n"
   ]
  },
  {
   "cell_type": "markdown",
   "metadata": {
    "id": "quwJZlvoKjXz"
   },
   "source": [
    "Kiểm định 2 đuôi:\n",
    "\n",
    "$$H_{0}: \\sigma^{2} = \\sigma_{0}^{2}$$\n",
    "$$H_{a}:\\sigma^{2} \\neq \\sigma_{0}^{2} $$\n",
    "\n",
    "Giá trị thống kê kiểm định:\n",
    "\n",
    "$$ \\chi^{2} = \\frac{(n-1)s^{2}}{\\sigma_{0}^{2}}$$\n",
    "\n",
    "Vùng bác bỏ: $\\chi^{2} < \\chi_{(1 - \\alpha/2)}^{2}$  hoặc $\\chi^{2} > \\chi_{(\\alpha/2)}^{2}$  \n",
    "Ghi chú: \n",
    "\n",
    "- $\\chi^{2}$ - chi-square\n",
    "- (n - 1) mức tự do"
   ]
  },
  {
   "cell_type": "markdown",
   "metadata": {
    "id": "s-fVhi2eKjX0"
   },
   "source": [
    "THỰC HÀNH KIỂM ĐỊNH F\n",
    "\n",
    "Bước 1: Sinh ngẫu nhiên số liệu\n",
    "\n",
    "Bước 2: Xây dựng giả thuyết \n",
    "\n",
    "Bước 3: Kiểm định Bartlett "
   ]
  },
  {
   "cell_type": "code",
   "execution_count": 2,
   "metadata": {
    "colab": {
     "base_uri": "https://localhost:8080/"
    },
    "id": "F8YVjy8FKjX0",
    "outputId": "d152ab66-63b8-4b4b-e5a2-43b430f20a06"
   },
   "outputs": [],
   "source": [
    "import numpy as np\n",
    "import pandas as pd\n",
    "import random\n",
    "from scipy import stats\n",
    "from statsmodels.stats.weightstats import ztest\n",
    "import warnings\n",
    "import matplotlib.pyplot as plt\n",
    "import seaborn as sns\n",
    "%matplotlib inline"
   ]
  },
  {
   "cell_type": "code",
   "execution_count": 33,
   "metadata": {
    "id": "Ct8QSVy7KjX1"
   },
   "outputs": [],
   "source": [
    "#Sinh ngẫu nhiên 1000 mẫu tuân theo phân phối chuẩn có trung bình mẫu là 7.5 và độ lệch chuẩn là 0.25\n",
    "mean_1 = 7.5\n",
    "std_1 = 0.25\n",
    "N_1 = 1000\n",
    "samples_1 = np.random.normal(mean_1, std_1, N_1)"
   ]
  },
  {
   "cell_type": "code",
   "execution_count": 34,
   "metadata": {
    "colab": {
     "base_uri": "https://localhost:8080/"
    },
    "id": "Ydgth3GxKjX1",
    "outputId": "655669f4-2c61-4c03-8912-59a94f3c99d2"
   },
   "outputs": [
    {
     "name": "stdout",
     "output_type": "stream",
     "text": [
      "[7.12832502 7.75412118 7.01038523 7.24419468 8.01806765 7.62647414\n",
      " 7.45015289 7.55175226 7.62099234 7.48415647]\n"
     ]
    }
   ],
   "source": [
    "#In ra 10 phần tử đầu tiên\n",
    "print(samples_1[:10])"
   ]
  },
  {
   "cell_type": "code",
   "execution_count": 35,
   "metadata": {
    "id": "7d3RnIXpKjX2"
   },
   "outputs": [],
   "source": [
    "#Sinh ngẫu nhiên 900 mẫu tuân theo phân phối chuẩn có trung bình mẫu là 7 và độ lệch chuẩn là 0.2\n",
    "mean_2= 7\n",
    "std_2 = 0.2\n",
    "N_2 = 900\n",
    "samples_2 = np.random.normal(mean_2, std_2, N_2)"
   ]
  },
  {
   "cell_type": "code",
   "execution_count": 36,
   "metadata": {
    "colab": {
     "base_uri": "https://localhost:8080/"
    },
    "id": "UY4KUfZsKjX2",
    "outputId": "004650d1-447d-4f12-de18-b84ceb9a94dc"
   },
   "outputs": [
    {
     "name": "stdout",
     "output_type": "stream",
     "text": [
      "[6.9890584  6.87892349 7.05541901 6.96962039 7.20229649 6.875475\n",
      " 6.91630326 7.11606374 6.9910416  7.12453565]\n"
     ]
    }
   ],
   "source": [
    "#In ra 10 phần tử đầu tiên\n",
    "print(samples_2[:10])"
   ]
  },
  {
   "cell_type": "markdown",
   "metadata": {
    "id": "2ckQ8lsuKjX3"
   },
   "source": [
    "Xây dựng giả thuyết:\n",
    "$$H_{0}: \\sigma_{1}^{2} = \\sigma_{2}^{2}$$\n",
    "$$H_{a}: \\sigma_{1}^{2} \\neq \\sigma_{2}^{2}$$"
   ]
  },
  {
   "cell_type": "code",
   "execution_count": 37,
   "metadata": {
    "colab": {
     "base_uri": "https://localhost:8080/"
    },
    "id": "tE1hp0yrKjX3",
    "outputId": "50ab62ae-118c-4092-c85a-4e11040bc3e3"
   },
   "outputs": [
    {
     "name": "stdout",
     "output_type": "stream",
     "text": [
      "Stat value:  55.32621127838599 ; p-value:  1.0209802744934917e-13\n"
     ]
    }
   ],
   "source": [
    "#Kiểm định Bartlett\n",
    "stat_value, p_value = stats.bartlett(samples_1, samples_2)\n",
    "print(\"Stat value: \", stat_value, \"; p-value: \", p_value)"
   ]
  },
  {
   "cell_type": "code",
   "execution_count": 38,
   "metadata": {
    "colab": {
     "base_uri": "https://localhost:8080/"
    },
    "id": "87D8tHwkKjX3",
    "outputId": "63400ba8-6ecc-46e3-a211-66f34db5d164"
   },
   "outputs": [
    {
     "name": "stdout",
     "output_type": "stream",
     "text": [
      "Có bằng chứng để bác bỏ giả thuyết H0\n"
     ]
    }
   ],
   "source": [
    "alpha = 0.05\n",
    "if(p_value <  alpha):\n",
    "  print(\"Có bằng chứng để bác bỏ giả thuyết H0\")\n",
    "else:\n",
    "  print(\"Chưa có bằng chứng để bác bỏ giả thuyết H0\")"
   ]
  },
  {
   "cell_type": "markdown",
   "metadata": {
    "id": "hOvgbjWxKjX3"
   },
   "source": [
    "BÀI TẬP\n",
    "\n",
    "Bạn hãy thử viết code tiến hành kiểm định F 1 đuôi?\n",
    "\n",
    "Gợi ý: Thử tìm kiếm ví dụ về kiểm dịnh F 1 đuôi trong ngôn ngữ lập trình Python & R để nhận thấy sự khác biệt."
   ]
  },
  {
   "cell_type": "code",
   "execution_count": 46,
   "metadata": {
    "id": "YR_We6UpKjX4"
   },
   "outputs": [
    {
     "name": "stdout",
     "output_type": "stream",
     "text": [
      "Var_1:  147.39461940675454 Var_2:  0.03913764363925032\n",
      "F:  3498.9164700078077 p_value:  0.9999999999999999\n",
      "Có bằng chứng để bác bỏ giả thuyết H0\n"
     ]
    }
   ],
   "source": [
    "#Code here\n",
    "F = np.var(samples_1)/np.var(samples_2)\n",
    "samples_1 = np.random.normal(50, 15, 1000)\n",
    "samples_1 = np.random.normal(55, 12, 900)\n",
    "df1 = len(samples_1) - 1\n",
    "df2 = len(samples_2) - 1\n",
    "alpha = 0.05\n",
    "p_value = stats.f.cdf(F, df1, df2)\n",
    "print('Var_1: ',np.var(samples_1) ,'Var_2: ', np.var(samples_2)) \n",
    "print('F: ', F, 'p_value: ', p_value)\n",
    "if p_value > alpha:\n",
    "      print(\"Có bằng chứng để bác bỏ giả thuyết H0\")\n",
    "else:\n",
    "  print(\"Chưa có bằng chứng để bác bỏ giả thuyết H0\")"
   ]
  },
  {
   "cell_type": "code",
   "execution_count": null,
   "metadata": {},
   "outputs": [],
   "source": [
    "def variance(self):\n",
    "        mean =sum(self.ar1)/len(self.ar1)\n",
    "        SUM= 0\n",
    "        for i in ar1 :\n",
    "            SUM +=(i-mean)**2\n",
    "\n",
    "\n",
    "\n",
    "        var = SUM/(len(self.ar1)-1)\n",
    "        return var"
   ]
  },
  {
   "cell_type": "code",
   "execution_count": 48,
   "metadata": {},
   "outputs": [
    {
     "name": "stdout",
     "output_type": "stream",
     "text": [
      "Variance a=0.278, Variance b=6.011\n",
      "0.04621072088724584 0.31457490615130795\n",
      "Reject H0 4.658199166241723e-05\n"
     ]
    }
   ],
   "source": [
    "a = [1,2,1,2,1,2,1,2,1,2]\n",
    "b = [1,3,-1,2,1,5,-1,6,-1,2]\n",
    "print('Variance a={0:.3f}, Variance b={1:.3f}'.format(np.var(a, ddof=1), np.var(b, ddof=1)))\n",
    "fstatistics = min(np.var(a, ddof=1), np.var(b, ddof=1))/max(np.var(a, ddof=1), np.var(b, ddof=1)) # because we estimate mean from data\n",
    "fdistribution = stats.f(len(a)-1,len(b)-1) # build an F-distribution object\n",
    "p_value = fdistribution.cdf(fstatistics)\n",
    "f_critical = fdistribution.ppf(0.05)\n",
    "print(fstatistics, f_critical)\n",
    "if (p_value<0.05):\n",
    "    print('Reject H0', p_value)\n",
    "else:\n",
    "    print('Cant Reject H0', p_value)"
   ]
  },
  {
   "cell_type": "code",
   "execution_count": null,
   "metadata": {},
   "outputs": [],
   "source": []
  }
 ],
 "metadata": {
  "colab": {
   "name": "kiem-dinh-f.ipynb",
   "provenance": []
  },
  "kernelspec": {
   "display_name": "Python 3",
   "language": "python",
   "name": "python3"
  },
  "language_info": {
   "codemirror_mode": {
    "name": "ipython",
    "version": 3
   },
   "file_extension": ".py",
   "mimetype": "text/x-python",
   "name": "python",
   "nbconvert_exporter": "python",
   "pygments_lexer": "ipython3",
   "version": "3.8.5"
  }
 },
 "nbformat": 4,
 "nbformat_minor": 1
}
